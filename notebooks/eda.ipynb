{
 "cells": [
  {
   "cell_type": "code",
   "execution_count": 1,
   "metadata": {},
   "outputs": [
    {
     "name": "stderr",
     "output_type": "stream",
     "text": [
      "c:\\Users\\ASUS\\Lasitha\\MSC Data Science\\Principles of DS\\Assignments\\Portfolio-Q2\\notebooks\\../scripts\\read_from_rds.py:24: UserWarning: pandas only supports SQLAlchemy connectable (engine/connection) or database string URI or sqlite3 DBAPI2 connection. Other DBAPI2 objects are not tested. Please consider using SQLAlchemy.\n",
      "  df = pd.read_sql(query, conn)\n"
     ]
    },
    {
     "name": "stdout",
     "output_type": "stream",
     "text": [
      "Shape of the dataset: (980, 6)\n",
      "Columns: Index(['id', 'Title', 'Price', 'Rating', 'Availability', 'Category'], dtype='object')\n",
      "Data types:\n",
      " id                int64\n",
      "Title            object\n",
      "Price           float64\n",
      "Rating           object\n",
      "Availability     object\n",
      "Category         object\n",
      "dtype: object\n",
      "Missing values:\n",
      " id              0\n",
      "Title           0\n",
      "Price           0\n",
      "Rating          0\n",
      "Availability    0\n",
      "Category        0\n",
      "dtype: int64\n"
     ]
    }
   ],
   "source": [
    "# notebooks/eda.ipynb\n",
    "import pandas as pd\n",
    "import matplotlib.pyplot as plt\n",
    "import seaborn as sns\n",
    "import sys\n",
    "sys.path.append(\"../scripts\")\n",
    "from read_from_rds import read_data\n",
    "\n",
    "# Read data from RDS MySQL\n",
    "df = read_data()\n",
    "\n",
    "# Check the shape of the dataset\n",
    "print(\"Shape of the dataset:\", df.shape)\n",
    "\n",
    "# Check column names\n",
    "print(\"Columns:\", df.columns)\n",
    "\n",
    "# Check data types\n",
    "print(\"Data types:\\n\", df.dtypes)\n",
    "\n",
    "# Check for missing values\n",
    "print(\"Missing values:\\n\", df.isnull().sum())"
   ]
  },
  {
   "cell_type": "code",
   "execution_count": 2,
   "metadata": {},
   "outputs": [
    {
     "name": "stdout",
     "output_type": "stream",
     "text": [
      "Number of duplicates: 0\n"
     ]
    }
   ],
   "source": [
    "# Check for duplicates\n",
    "print(\"Number of duplicates:\", df.duplicated().sum())\n",
    "\n",
    "# Remove duplicates (if necessary)\n",
    "df = df.drop_duplicates()"
   ]
  },
  {
   "cell_type": "code",
   "execution_count": 3,
   "metadata": {},
   "outputs": [],
   "source": [
    "# Drop rows with missing values (if necessary)-\n",
    "df = df.dropna()"
   ]
  },
  {
   "cell_type": "code",
   "execution_count": 4,
   "metadata": {},
   "outputs": [
    {
     "name": "stdout",
     "output_type": "stream",
     "text": [
      "count    980.000000\n",
      "mean      35.026898\n",
      "std       14.498154\n",
      "min       10.000000\n",
      "25%       22.045000\n",
      "50%       35.940000\n",
      "75%       47.535000\n",
      "max       59.990000\n",
      "Name: Price, dtype: float64\n"
     ]
    }
   ],
   "source": [
    "# Summary statistics for numerical columns\n",
    "print(df['Price'].describe())"
   ]
  },
  {
   "cell_type": "code",
   "execution_count": 6,
   "metadata": {},
   "outputs": [
    {
     "name": "stdout",
     "output_type": "stream",
     "text": [
      "Rating\n",
      "One      82\n",
      "Two      79\n",
      "Three    75\n",
      "Five     75\n",
      "Four     69\n",
      "Name: count, dtype: int64\n"
     ]
    }
   ],
   "source": [
    "# Count of books by rating\n",
    "print(df['Rating'].value_counts())"
   ]
  },
  {
   "cell_type": "code",
   "execution_count": 7,
   "metadata": {},
   "outputs": [
    {
     "name": "stdout",
     "output_type": "stream",
     "text": [
      "Availability\n",
      "In stock    380\n",
      "Name: count, dtype: int64\n"
     ]
    }
   ],
   "source": [
    "# Count of books by availability\n",
    "print(df['Availability'].value_counts())"
   ]
  },
  {
   "cell_type": "code",
   "execution_count": 8,
   "metadata": {},
   "outputs": [
    {
     "name": "stdout",
     "output_type": "stream",
     "text": [
      "Category\n",
      "Default               60\n",
      "Nonfiction            43\n",
      "Sequential Art        38\n",
      "Fiction               27\n",
      "Add a comment         23\n",
      "Young Adult           21\n",
      "Fantasy               18\n",
      "Food and Drink        14\n",
      "Mystery               13\n",
      "Romance               11\n",
      "Poetry                11\n",
      "Childrens             10\n",
      "History                8\n",
      "Historical Fiction     8\n",
      "Thriller               6\n",
      "Business               6\n",
      "Horror                 6\n",
      "Science Fiction        5\n",
      "Music                  4\n",
      "Science                4\n",
      "Humor                  4\n",
      "Religion               3\n",
      "Self Help              3\n",
      "Philosophy             3\n",
      "Spirituality           3\n",
      "Travel                 3\n",
      "New Adult              3\n",
      "Contemporary           2\n",
      "Health                 2\n",
      "Art                    2\n",
      "Christian              2\n",
      "Politics               2\n",
      "Christian Fiction      2\n",
      "Psychology             2\n",
      "Womens Fiction         2\n",
      "Cultural               1\n",
      "Autobiography          1\n",
      "Erotica                1\n",
      "Biography              1\n",
      "Crime                  1\n",
      "Historical             1\n",
      "Name: count, dtype: int64\n"
     ]
    }
   ],
   "source": [
    "# Count of books by category\n",
    "print(df['Category'].value_counts())"
   ]
  },
  {
   "cell_type": "code",
   "execution_count": 9,
   "metadata": {},
   "outputs": [
    {
     "data": {
      "image/png": "[encoded data removed]",
      "text/plain": [
       "<Figure size 640x480 with 1 Axes>"
      ]
     },
     "metadata": {},
     "output_type": "display_data"
    }
   ],
   "source": [
    "import matplotlib.pyplot as plt\n",
    "import seaborn as sns\n",
    "\n",
    "# Histogram of book prices\n",
    "sns.histplot(df['Price'], bins=30, kde=True)\n",
    "plt.title('Distribution of Book Prices')\n",
    "plt.xlabel('Price')\n",
    "plt.ylabel('Frequency')\n",
    "plt.show()"
   ]
  },
  {
   "cell_type": "code",
   "execution_count": 10,
   "metadata": {},
   "outputs": [
    {
     "data": {
      "image/png": "[encoded data removed]",
      "text/plain": [
       "<Figure size 640x480 with 1 Axes>"
      ]
     },
     "metadata": {},
     "output_type": "display_data"
    }
   ],
   "source": [
    "# Boxplot of price by rating\n",
    "sns.boxplot(x='Rating', y='Price', data=df)\n",
    "plt.title('Price Distribution by Rating')\n",
    "plt.xlabel('Rating')\n",
    "plt.ylabel('Price')\n",
    "plt.show()"
   ]
  },
  {
   "cell_type": "code",
   "execution_count": 11,
   "metadata": {},
   "outputs": [
    {
     "name": "stdout",
     "output_type": "stream",
     "text": [
      "Category\n",
      "Politics              51.990000\n",
      "Health                51.560000\n",
      "Christian             50.860000\n",
      "Self Help             48.176667\n",
      "New Adult             48.070000\n",
      "Travel                47.823333\n",
      "Art                   46.615000\n",
      "Science               45.652500\n",
      "Contemporary          42.280000\n",
      "Fantasy               38.713333\n",
      "Historical Fiction    37.578750\n",
      "Poetry                36.961818\n",
      "Music                 36.905000\n",
      "Cultural              36.580000\n",
      "Young Adult           36.308095\n",
      "Fiction               35.708148\n",
      "Womens Fiction        35.610000\n",
      "Default               35.461667\n",
      "Childrens             35.005000\n",
      "Christian Fiction     34.965000\n",
      "Mystery               34.233077\n",
      "Sequential Art        34.195263\n",
      "Add a comment         33.895652\n",
      "Food and Drink        33.661429\n",
      "Nonfiction            32.836977\n",
      "History               32.060000\n",
      "Thriller              30.925000\n",
      "Science Fiction       30.666000\n",
      "Philosophy            30.496667\n",
      "Religion              29.956667\n",
      "Business              29.913333\n",
      "Historical            29.870000\n",
      "Romance               29.553636\n",
      "Spirituality          29.233333\n",
      "Horror                28.610000\n",
      "Psychology            24.915000\n",
      "Humor                 24.157500\n",
      "Erotica               19.190000\n",
      "Biography             16.850000\n",
      "Crime                 10.970000\n",
      "Autobiography         10.930000\n",
      "Name: Price, dtype: float64\n",
      "Category       Rating\n",
      "Add a comment  Four      6\n",
      "               Two       6\n",
      "               One       4\n",
      "               Three     4\n",
      "               Five      3\n",
      "                        ..\n",
      "Young Adult    Five      6\n",
      "               Two       5\n",
      "               One       4\n",
      "               Three     3\n",
      "               Four      3\n",
      "Name: count, Length: 132, dtype: int64\n"
     ]
    }
   ],
   "source": [
    "# Average price by category\n",
    "print(df.groupby('Category')['Price'].mean().sort_values(ascending=False))\n",
    "\n",
    "# Average rating by category\n",
    "print(df.groupby('Category')['Rating'].value_counts())"
   ]
  },
  {
   "cell_type": "code",
   "execution_count": 12,
   "metadata": {},
   "outputs": [
    {
     "name": "stdout",
     "output_type": "stream",
     "text": [
      "Availability\n",
      "In stock    34.782605\n",
      "Name: Price, dtype: float64\n",
      "Availability  Rating\n",
      "In stock      One       82\n",
      "              Two       79\n",
      "              Five      75\n",
      "              Three     75\n",
      "              Four      69\n",
      "Name: count, dtype: int64\n"
     ]
    }
   ],
   "source": [
    "# Average price by availability\n",
    "print(df.groupby('Availability')['Price'].mean())\n",
    "\n",
    "# Average rating by availability\n",
    "print(df.groupby('Availability')['Rating'].value_counts())"
   ]
  },
  {
   "cell_type": "code",
   "execution_count": 13,
   "metadata": {},
   "outputs": [
    {
     "name": "stdout",
     "output_type": "stream",
     "text": [
      "               Price  Rating_num\n",
      "Price       1.000000    0.018718\n",
      "Rating_num  0.018718    1.000000\n"
     ]
    },
    {
     "data": {
      "image/png": "[encoded data removed]",
      "text/plain": [
       "<Figure size 640x480 with 2 Axes>"
      ]
     },
     "metadata": {},
     "output_type": "display_data"
    }
   ],
   "source": [
    "# Convert rating to numerical values (if necessary)\n",
    "rating_map = {'One': 1, 'Two': 2, 'Three': 3, 'Four': 4, 'Five': 5}\n",
    "df['Rating_num'] = df['Rating'].map(rating_map)\n",
    "\n",
    "# Correlation matrix\n",
    "corr = df[['Price', 'Rating_num']].corr()\n",
    "print(corr)\n",
    "\n",
    "# Heatmap of correlations\n",
    "sns.heatmap(corr, annot=True, cmap='coolwarm')\n",
    "plt.title('Correlation Between Price and Rating')\n",
    "plt.show()"
   ]
  },
  {
   "cell_type": "code",
   "execution_count": 14,
   "metadata": {},
   "outputs": [
    {
     "data": {
      "image/png": "[encoded data removed]",
      "text/plain": [
       "<Figure size 640x480 with 1 Axes>"
      ]
     },
     "metadata": {},
     "output_type": "display_data"
    }
   ],
   "source": [
    "# Boxplot for price\n",
    "sns.boxplot(x=df['Price'])\n",
    "plt.title('Boxplot of Book Prices')\n",
    "plt.show()"
   ]
  }
 ],
 "metadata": {
  "kernelspec": {
   "display_name": "venv",
   "language": "python",
   "name": "python3"
  },
  "language_info": {
   "codemirror_mode": {
    "name": "ipython",
    "version": 3
   },
   "file_extension": ".py",
   "mimetype": "text/x-python",
   "name": "python",
   "nbconvert_exporter": "python",
   "pygments_lexer": "ipython3",
   "version": "3.11.9"
  }
 },
 "nbformat": 4,
 "nbformat_minor": 2
}
