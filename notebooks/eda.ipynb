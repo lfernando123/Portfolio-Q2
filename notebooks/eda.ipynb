# notebooks/eda.ipynb
import pandas as pd
import matplotlib.pyplot as plt
import seaborn as sns
from scripts.read_from_rds import read_from_rds

# Read data from RDS MySQL
df = read_from_rds()

# Basic statistics
print(df.describe())

# Distribution of prices
plt.figure(figsize=(8, 6))
sns.histplot(df["Price"], bins=20, kde=True)
plt.title("Distribution of Book Prices")
plt.xlabel("Price (£)")
plt.ylabel("Frequency")
plt.show()