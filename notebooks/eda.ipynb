{
 "cells": [
  {
   "cell_type": "code",
   "execution_count": null,
   "metadata": {},
   "outputs": [
    {
     "ename": "ImportError",
     "evalue": "cannot import name 'read_data' from 'read_from_rds' (c:\\Users\\ASUS\\Lasitha\\MSC Data Science\\Principles of DS\\Assignments\\Portfolio-Q2\\notebooks\\../scripts\\read_from_rds.py)",
     "output_type": "error",
     "traceback": [
      "\u001b[31m---------------------------------------------------------------------------\u001b[39m",
      "\u001b[31mImportError\u001b[39m                               Traceback (most recent call last)",
      "\u001b[36mCell\u001b[39m\u001b[36m \u001b[39m\u001b[32mIn[15]\u001b[39m\u001b[32m, line 7\u001b[39m\n\u001b[32m      5\u001b[39m \u001b[38;5;28;01mimport\u001b[39;00m\u001b[38;5;250m \u001b[39m\u001b[34;01msys\u001b[39;00m\n\u001b[32m      6\u001b[39m \u001b[38;5;66;03m#sys.path.append(\"../scripts\")\u001b[39;00m\n\u001b[32m----> \u001b[39m\u001b[32m7\u001b[39m \u001b[38;5;28;01mfrom\u001b[39;00m\u001b[38;5;250m \u001b[39m\u001b[34;01mread_from_rds\u001b[39;00m\u001b[38;5;250m \u001b[39m\u001b[38;5;28;01mimport\u001b[39;00m read_data\n\u001b[32m      9\u001b[39m \u001b[38;5;66;03m# Read data from RDS MySQL\u001b[39;00m\n\u001b[32m     10\u001b[39m df = read_data()\n",
      "\u001b[31mImportError\u001b[39m: cannot import name 'read_data' from 'read_from_rds' (c:\\Users\\ASUS\\Lasitha\\MSC Data Science\\Principles of DS\\Assignments\\Portfolio-Q2\\notebooks\\../scripts\\read_from_rds.py)"
     ]
    }
   ],
   "source": [
    "# notebooks/eda.ipynb\n",
    "import pandas as pd\n",
    "import matplotlib.pyplot as plt\n",
    "import seaborn as sns\n",
    "import sys\n",
    "sys.path.append(\"../scripts\")\n",
    "from read_from_rds import read_data\n",
    "\n",
    "# Read data from RDS MySQL\n",
    "df = read_data()\n",
    "\n",
    "# Basic statistics\n",
    "print(df.describe())\n",
    "\n",
    "# Distribution of prices\n",
    "plt.figure(figsize=(8, 6))\n",
    "sns.histplot(df[\"Price\"], bins=20, kde=True)\n",
    "plt.title(\"Distribution of Book Prices\")\n",
    "plt.xlabel(\"Price (£)\")\n",
    "plt.ylabel(\"Frequency\")\n",
    "plt.show()"
   ]
  }
 ],
 "metadata": {
  "kernelspec": {
   "display_name": "venv",
   "language": "python",
   "name": "python3"
  },
  "language_info": {
   "codemirror_mode": {
    "name": "ipython",
    "version": 3
   },
   "file_extension": ".py",
   "mimetype": "text/x-python",
   "name": "python",
   "nbconvert_exporter": "python",
   "pygments_lexer": "ipython3",
   "version": "3.11.9"
  }
 },
 "nbformat": 4,
 "nbformat_minor": 2
}
